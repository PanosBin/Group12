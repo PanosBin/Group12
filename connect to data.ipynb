{
 "cells": [
  {
   "cell_type": "code",
   "execution_count": 1,
   "id": "7a1f7b98-6a5b-4363-ae08-6303f790fa83",
   "metadata": {},
   "outputs": [
    {
     "name": "stdout",
     "output_type": "stream",
     "text": [
      "Defaulting to user installation because normal site-packages is not writeable\n",
      "Collecting uproot\n",
      "  Downloading uproot-5.1.2-py3-none-any.whl (342 kB)\n",
      "\u001b[K     |████████████████████████████████| 342 kB 8.4 MB/s eta 0:00:01\n",
      "\u001b[?25hRequirement already satisfied: packaging in ./.local/lib/python3.9/site-packages (from uproot) (23.2)\n",
      "Requirement already satisfied: typing-extensions>=4.1.0 in ./.local/lib/python3.9/site-packages (from uproot) (4.8.0)\n",
      "Collecting awkward>=2.4.6\n",
      "  Downloading awkward-2.5.0-py3-none-any.whl (737 kB)\n",
      "\u001b[K     |████████████████████████████████| 737 kB 30.5 MB/s eta 0:00:01\n",
      "\u001b[?25hRequirement already satisfied: numpy in /usr/lib64/python3.9/site-packages (from uproot) (1.20.1)\n",
      "Collecting awkward-cpp==26\n",
      "  Downloading awkward_cpp-26-cp39-cp39-manylinux_2_17_x86_64.manylinux2014_x86_64.whl (706 kB)\n",
      "\u001b[K     |████████████████████████████████| 706 kB 59.2 MB/s eta 0:00:01\n",
      "\u001b[?25hRequirement already satisfied: importlib-metadata>=4.13.0 in ./.local/lib/python3.9/site-packages (from awkward>=2.4.6->uproot) (6.8.0)\n",
      "Requirement already satisfied: zipp>=0.5 in ./.local/lib/python3.9/site-packages (from importlib-metadata>=4.13.0->awkward>=2.4.6->uproot) (3.17.0)\n",
      "Installing collected packages: awkward-cpp, awkward, uproot\n",
      "\u001b[33m  WARNING: Value for scheme.platlib does not match. Please report this to <https://github.com/pypa/pip/issues/10151>\n",
      "  distutils: /home/I6349144/.local/lib/python3.9/site-packages\n",
      "  sysconfig: /home/I6349144/.local/lib64/python3.9/site-packages\u001b[0m\n",
      "\u001b[33m  WARNING: Additional context:\n",
      "  user = True\n",
      "  home = None\n",
      "  root = None\n",
      "  prefix = None\u001b[0m\n",
      "Successfully installed awkward-2.5.0 awkward-cpp-26 uproot-5.1.2\n"
     ]
    }
   ],
   "source": [
    "!pip install uproot"
   ]
  },
  {
   "cell_type": "code",
   "execution_count": 10,
   "id": "9926559f-0b25-494e-be66-38760f0feb52",
   "metadata": {},
   "outputs": [
    {
     "name": "stdout",
     "output_type": "stream",
     "text": [
      "['data;479', 'data;478']\n",
      "name                 | typename                 | interpretation                \n",
      "---------------------+--------------------------+-------------------------------\n",
      "Date_UTC             | char*                    | AsStrings()\n",
      "Time_UTC             | char*                    | AsStrings()\n",
      "Nanoseconds_2001     | int64_t                  | AsDtype('>i8')\n",
      "Name                 | char*                    | AsStrings()\n",
      "BidPrice             | std::vector<int32_t>     | AsJagged(AsDtype('>i4'), he...\n",
      "BidVolume            | std::vector<int32_t>     | AsJagged(AsDtype('>i4'), he...\n",
      "AskPrice             | std::vector<int32_t>     | AsJagged(AsDtype('>i4'), he...\n",
      "AskVolume            | std::vector<int32_t>     | AsJagged(AsDtype('>i4'), he...\n",
      "MsgSide              | int8_t                   | AsDtype('int8')\n",
      "MsgType              | int8_t                   | AsDtype('int8')\n",
      "MsgPrice             | int32_t                  | AsDtype('>i4')\n",
      "MsgVolume            | int32_t                  | AsDtype('>i4')\n",
      "MsgID                | uint64_t                 | AsDtype('>u8')\n",
      "LastTradedPrice      | int32_t                  | AsDtype('>i4')\n",
      "CumulativeTradeVo... | int64_t                  | AsDtype('>i8')\n",
      "None\n"
     ]
    }
   ],
   "source": [
    "import uproot\n",
    "\n",
    "# Replace 'path/to/your/data.root' with the path to your .root file\n",
    "file = uproot.open('/data/MRP/message_CL.root')\n",
    "\n",
    "# Print the keys available in the file\n",
    "print(file.keys())\n",
    "\n",
    "# Replace 'data;479' with the appropriate key based on the output of file.keys()\n",
    "key_to_inspect = 'data;479'\n",
    "\n",
    "# Show the contents of the specified key interactively\n",
    "print(file[key_to_inspect].show())"
   ]
  },
  {
   "cell_type": "code",
   "execution_count": 21,
   "id": "e361b1da-90b9-45ee-abfb-aade1fab8777",
   "metadata": {},
   "outputs": [
    {
     "ename": "NameError",
     "evalue": "name 'islice' is not defined",
     "output_type": "error",
     "traceback": [
      "\u001b[0;31m---------------------------------------------------------------------------\u001b[0m",
      "\u001b[0;31mNameError\u001b[0m                                 Traceback (most recent call last)",
      "Cell \u001b[0;32mIn[21], line 11\u001b[0m\n\u001b[1;32m      8\u001b[0m num_entries_to_display \u001b[38;5;241m=\u001b[39m \u001b[38;5;241m100\u001b[39m\n\u001b[1;32m     10\u001b[0m \u001b[38;5;66;03m# Loop over the first few entries and print the values for 'BidPrice'\u001b[39;00m\n\u001b[0;32m---> 11\u001b[0m \u001b[38;5;28;01mfor\u001b[39;00m entry \u001b[38;5;129;01min\u001b[39;00m \u001b[43mislice\u001b[49m(tree\u001b[38;5;241m.\u001b[39miterate(\u001b[38;5;124m'\u001b[39m\u001b[38;5;124mBidPrice\u001b[39m\u001b[38;5;124m'\u001b[39m), num_entries_to_display):\n\u001b[1;32m     12\u001b[0m     \u001b[38;5;66;03m# entry is a dictionary with keys being branch names\u001b[39;00m\n\u001b[1;32m     13\u001b[0m     bid_prices \u001b[38;5;241m=\u001b[39m entry[\u001b[38;5;124m'\u001b[39m\u001b[38;5;124mBidPrice\u001b[39m\u001b[38;5;124m'\u001b[39m]\n\u001b[1;32m     15\u001b[0m     \u001b[38;5;66;03m# Print the values\u001b[39;00m\n",
      "\u001b[0;31mNameError\u001b[0m: name 'islice' is not defined"
     ]
    }
   ],
   "source": [
    "# Choose the appropriate key based on your data structure\n",
    "key_to_use = 'data;479'\n",
    "\n",
    "# Access the TTree using the selected key\n",
    "tree = file[key_to_use]\n",
    "\n",
    "# Define the number of entries to display (e.g., 100)\n",
    "num_entries_to_display = 100\n",
    "\n",
    "# Loop over the first few entries and print the values for 'BidPrice'\n",
    "for entry in islice(tree.iterate('BidPrice'), num_entries_to_display):\n",
    "    # entry is a dictionary with keys being branch names\n",
    "    bid_prices = entry['BidPrice']\n",
    "    \n",
    "    # Print the values\n",
    "    print(f'BidPrice values for entry: {bid_prices.tolist()}')"
   ]
  },
  {
   "cell_type": "code",
   "execution_count": null,
   "id": "02c8ec16-ac41-4fc5-ab32-311577c93cac",
   "metadata": {},
   "outputs": [],
   "source": []
  }
 ],
 "metadata": {
  "kernelspec": {
   "display_name": "Python 3 (ipykernel)",
   "language": "python",
   "name": "python3"
  },
  "language_info": {
   "codemirror_mode": {
    "name": "ipython",
    "version": 3
   },
   "file_extension": ".py",
   "mimetype": "text/x-python",
   "name": "python",
   "nbconvert_exporter": "python",
   "pygments_lexer": "ipython3",
   "version": "3.9.18"
  }
 },
 "nbformat": 4,
 "nbformat_minor": 5
}
